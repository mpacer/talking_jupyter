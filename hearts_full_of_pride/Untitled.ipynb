{
 "cells": [
  {
   "cell_type": "code",
   "execution_count": 1,
   "metadata": {},
   "outputs": [
    {
     "name": "stdout",
     "output_type": "stream",
     "text": [
      "hi\n"
     ]
    }
   ],
   "source": [
    "\n",
    "println(\"hi\")"
   ]
  },
  {
   "cell_type": "code",
   "execution_count": null,
   "metadata": {},
   "outputs": [],
   "source": [
    "def addition(x:Int, y:Int) => x+y\n",
    "def subtraction(x:Int, y:Int) => x-y\n",
    "def quotient(x:Int, y:Int) => if(y!=0) x/y else 0\n",
    "def multiplication(x:Int, y:Int) => x*y\n"
   ]
  },
  {
   "cell_type": "code",
   "execution_count": 4,
   "metadata": {},
   "outputs": [
    {
     "data": {
      "text/plain": [
       "defined \u001b[32mobject\u001b[39m \u001b[36mCalculator\u001b[39m"
      ]
     },
     "execution_count": 4,
     "metadata": {},
     "output_type": "execute_result"
    }
   ],
   "source": [
    "object Calculator{\n",
    "    val addition = (a:Int, b:Int) => a+b\n",
    "    val subtraction = (a:Int, b:Int) => a-b\n",
    "    val quotient = (a:Int, b:Int) => if(b == 0) 0 else a/b\n",
    "    val multiplication = (a:Int, b:Int) => a*b\n",
    "    def main(args:Array[String]) {\n",
    "        val x = 10\n",
    "        val y = 5\n",
    "        println(addition(x,y))\n",
    "        println(subtraction(x,y))\n",
    "        println(quotient(x,y))\n",
    "        println(multiplication(x,y))\n",
    "    }\n",
    "}"
   ]
  },
  {
   "cell_type": "code",
   "execution_count": 5,
   "metadata": {},
   "outputs": [
    {
     "name": "stdout",
     "output_type": "stream",
     "text": [
      "15\n",
      "5\n",
      "2\n",
      "50\n"
     ]
    }
   ],
   "source": [
    "Calculator.main(null)"
   ]
  },
  {
   "cell_type": "code",
   "execution_count": null,
   "metadata": {},
   "outputs": [],
   "source": []
  }
 ],
 "metadata": {
  "kernelspec": {
   "display_name": "Scala",
   "language": "scala",
   "name": "almond"
  },
  "language_info": {
   "codemirror_mode": "text/x-scala",
   "file_extension": ".scala",
   "mimetype": "text/x-scala",
   "name": "scala",
   "nbconvert_exporter": "script",
   "version": "2.12.7"
  }
 },
 "nbformat": 4,
 "nbformat_minor": 2
}
